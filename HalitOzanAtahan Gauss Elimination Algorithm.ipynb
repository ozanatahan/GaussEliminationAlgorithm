{
 "cells": [
  {
   "cell_type": "code",
   "execution_count": 32,
   "id": "9e44ae1e",
   "metadata": {},
   "outputs": [],
   "source": [
    "import numpy as np\n",
    "def gauss_elimination(a_matrix, b_matrix):\n",
    "    augmented_matrix = []\n",
    "    n = len(b_matrix)\n",
    "\n",
    "    if np.array(b_matrix).ndim > 1:\n",
    "        augmented_matrix = np.hstack((a_matrix, b_matrix))\n",
    "        for i in range(n):\n",
    "            \n",
    "            augmented_matrix[i] = augmented_matrix[i] / augmented_matrix[i, i]\n",
    "            for j in range(n):\n",
    "                if j != i:\n",
    "                    augmented_matrix[j] -= augmented_matrix[i] * augmented_matrix[j, i]\n",
    "   \n",
    "        identity_matrix = augmented_matrix[:, n:]\n",
    "        return identity_matrix        \n",
    "        \n",
    "    \n",
    "    for i in range(len(a_matrix)):\n",
    "        augmented_matrix.append(a_matrix[i] + [b_matrix[i]])\n",
    "    \n",
    "    augmented_matrix = np.array(augmented_matrix, dtype=float)\n",
    "\n",
    "\n",
    "    for i in range(n):\n",
    "        if augmented_matrix[i][i] == 0:  \n",
    "            for j in range(i + 1, n):\n",
    "                if augmented_matrix[j][i] != 0:  \n",
    "                    augmented_matrix[[i, j]] = augmented_matrix[[j, i]]  \n",
    "                    break\n",
    "            else: \n",
    "                return singular_analysis_with_solution_space(augmented_matrix, i)\n",
    "\n",
    "        for k in range(i + 1, n):\n",
    "            s = augmented_matrix[k][i] / augmented_matrix[i][i]\n",
    "            augmented_matrix[k] = augmented_matrix[k] - s * augmented_matrix[i]\n",
    "\n",
    "   \n",
    "    solutions = backward_substitution(augmented_matrix)\n",
    "    return solutions\n",
    "\n",
    "def singular_analysis_with_solution_space(augmented_matrix, start_row):\n",
    "\n",
    "    n, m = augmented_matrix.shape[0], augmented_matrix.shape[1] - 1  \n",
    "    free_vars = []  \n",
    "    pivot_columns = []  \n",
    "\n",
    "\n",
    "        \n",
    "    for i in range(start_row, n):\n",
    "        for j in range(augmented_matrix.shape[1] - 1): \n",
    "            if augmented_matrix[i, j] != 0:  \n",
    "                break\n",
    "    else:  \n",
    "        if augmented_matrix[i, -1] != 0: \n",
    "            return \"Sistem çözümsüz.\"\n",
    "\n",
    "    \n",
    "    \n",
    "\n",
    "    for i in range(start_row):\n",
    "        for j in range(m):\n",
    "            if augmented_matrix[i, j] != 0:\n",
    "                pivot_columns.append(j)\n",
    "                break\n",
    "\n",
    "\n",
    "    free_vars = []\n",
    "    for j in range(m): \n",
    "        if j not in pivot_columns: \n",
    "            free_vars.append(f\"x{j + 1}\")\n",
    "\n",
    "\n",
    "    solution = []\n",
    "    for i in range(m):\n",
    "        if i in pivot_columns:\n",
    "            row = pivot_columns.index(i)\n",
    "            terms = []\n",
    "            for j in range(m):  \n",
    "                if j not in pivot_columns:\n",
    "                    terms.append(f\"{-augmented_matrix[row, j]}*x{j + 1}\")\n",
    "            terms.append(f\"{augmented_matrix[row, -1]}\")  \n",
    "            solution.append(f\"x{i + 1} = {' + '.join(terms)}\")\n",
    "        else:\n",
    "            solution.append(f\"x{i + 1} = free\")\n",
    "\n",
    "    return \"\\n\".join(solution)\n",
    "\n",
    "def backward_substitution(augmented_matrix):\n",
    "\n",
    "    n = augmented_matrix.shape[0]\n",
    "    solutions = np.zeros(n)\n",
    "\n",
    "    for i in range(n - 1, -1, -1):  \n",
    "        solutions[i] = augmented_matrix[i, -1]\n",
    "        for j in range(i + 1, n):\n",
    "            solutions[i] -= augmented_matrix[i, j] * solutions[j]\n",
    "        solutions[i] /= augmented_matrix[i, i]\n",
    "\n",
    "    return solutions"
   ]
  },
  {
   "cell_type": "code",
   "execution_count": 33,
   "id": "a9cdc752",
   "metadata": {},
   "outputs": [],
   "source": [
    "#3 adet 1 çözümü olan denklem sistemi\n",
    "a1 = [[3.0, 2.0, 6.0], [-10.0, -5.0, 9.0], [-9.0, -4.0, -7.0]]\n",
    "b1 = [-9.0, -2.0, -3.0]\n",
    "\n",
    "a2 = [[-7.0, 3.0, -3.0], [8.0, 1.0, -2.0], [3.0, 3.0, 6.0]]\n",
    "b2 = [4.0, -6.0, 8.0]\n",
    "\n",
    "a3 = [[-8.0, -2.0, -1.0], [2.0, -1.0, 8.0], [-1.0, -8.0, -6.0]]\n",
    "b3 = [9.0, 7.0, -10.0]"
   ]
  },
  {
   "cell_type": "code",
   "execution_count": 34,
   "id": "64d68391",
   "metadata": {},
   "outputs": [
    {
     "name": "stdout",
     "output_type": "stream",
     "text": [
      "Result1: [  6.41176471 -13.05882353  -0.35294118]\n",
      "Result2: [-0.60194175  1.0420712   1.11326861]\n",
      "Result3: [-1.40108893  0.46279492  1.2831216 ]\n"
     ]
    }
   ],
   "source": [
    "result1 = gauss_elimination(a1, b1)\n",
    "result2 = gauss_elimination(a2, b2)\n",
    "result3 = gauss_elimination(a3, b3)\n",
    "results = [result1, result2, result3]\n",
    "\n",
    "for i, result in enumerate(results, start=1):\n",
    "    print(f\"Result{i}: {result}\")\n"
   ]
  },
  {
   "cell_type": "code",
   "execution_count": 35,
   "id": "491092ae",
   "metadata": {},
   "outputs": [],
   "source": [
    "#3 adet çözümsüz olan denklem sistemi\n",
    "a1 = [[6.0, 5.0, 5.0], [8.0, 5.0, -6.0], [6.0, 5.0, 5.0]]\n",
    "b1 = [-6.0, -6.0, -4.0]\n",
    "\n",
    "a2 = [[0.0, 5.0, 6.0], [0.0, -7.0, 1.0], [0.0, 0.0, 8.0]]\n",
    "b2 = [-2.0, 0.0, -6.0]\n",
    "\n",
    "a3 = [[3.0, 3.0, 2.0], [9.0, 7.0, -4.0], [9.0, 9.0, 6.0]]\n",
    "b3 = [9.0, -6.0, 5.0]"
   ]
  },
  {
   "cell_type": "code",
   "execution_count": 36,
   "id": "3267f491",
   "metadata": {},
   "outputs": [
    {
     "name": "stdout",
     "output_type": "stream",
     "text": [
      "Result1: Sistem çözümsüz.\n",
      "Result2: Sistem çözümsüz.\n",
      "Result3: Sistem çözümsüz.\n"
     ]
    }
   ],
   "source": [
    "result1 = gauss_elimination(a1, b1)\n",
    "result2 = gauss_elimination(a2, b2)\n",
    "result3 = gauss_elimination(a3, b3)\n",
    "results = [result1, result2, result3]\n",
    "\n",
    "for i, result in enumerate(results, start=1):\n",
    "    print(f\"Result{i}: {result}\")"
   ]
  },
  {
   "cell_type": "code",
   "execution_count": 37,
   "id": "c965567c",
   "metadata": {},
   "outputs": [],
   "source": [
    "#3 adet sonsuz çözümü olan denklem sistemi\n",
    "a1 = [[-1.0, -4.0, -4.0], [-1.0, -4.0, -4.0], [0.0, 2.0, -8.0]]\n",
    "b1 = [3.0, 3.0, -6.0]\n",
    "\n",
    "a2 = [[3.0, 1.0, -1.0], [1.0, -10.0, 6.0], [3.0, 1.0, -1.0]]\n",
    "b2 = [-3.0, -10.0, -3.0]\n",
    "\n",
    "a3 = [[6.0, -4.0, -9.0], [9.0, 9.0, 6.0], [-9.0, -9.0, -6.0]]\n",
    "b3 = [-1.0, 6.0, -6.0]"
   ]
  },
  {
   "cell_type": "code",
   "execution_count": 38,
   "id": "058c8a73",
   "metadata": {},
   "outputs": [
    {
     "name": "stdout",
     "output_type": "stream",
     "text": [
      "Result1: x1 = 4.0*x3 + 3.0\n",
      "x2 = 8.0*x3 + -6.0\n",
      "x3 = free\n",
      "Result2: x1 = 1.0*x3 + -3.0\n",
      "x2 = -6.333333333333333*x3 + -9.0\n",
      "x3 = free\n",
      "Result3: x1 = 9.0*x3 + -1.0\n",
      "x2 = -19.5*x3 + 7.5\n",
      "x3 = free\n"
     ]
    }
   ],
   "source": [
    "result1 = gauss_elimination(a1, b1)\n",
    "result2 = gauss_elimination(a2, b2)\n",
    "result3 = gauss_elimination(a3, b3)\n",
    "results = [result1, result2, result3]\n",
    "\n",
    "for i, result in enumerate(results, start=1):\n",
    "    print(f\"Result{i}: {result}\")"
   ]
  },
  {
   "cell_type": "code",
   "execution_count": 39,
   "id": "5d44e28c",
   "metadata": {},
   "outputs": [
    {
     "data": {
      "text/plain": [
       "array([[ 0.46153846, -0.15384615,  0.07692308,  0.        ],\n",
       "       [ 0.07692308,  0.30769231, -0.15384615,  0.        ],\n",
       "       [-0.23076923,  0.07692308,  0.46153846,  0.        ],\n",
       "       [ 0.        ,  0.        ,  0.        ,  1.        ]])"
      ]
     },
     "execution_count": 39,
     "metadata": {},
     "output_type": "execute_result"
    }
   ],
   "source": [
    "a = [[2.0, 1.0, 0.0,0.0], [0.0, 3.0, 1.0,0.0], [1.0, 0.0, 2.0,0.0],[0.0, 0.0, 0.0,1.0]]\n",
    "b =[[1.0, 0.0, 0.0,0.0],[0.0, 1.0, 0.0,0.0],[0.0, 0.0, 1.0,0.0],[0.0, 0.0, 0.0,1.0]]\n",
    "gauss_elimination(a,b)"
   ]
  }
 ],
 "metadata": {
  "kernelspec": {
   "display_name": "Python 3 (ipykernel)",
   "language": "python",
   "name": "python3"
  },
  "language_info": {
   "codemirror_mode": {
    "name": "ipython",
    "version": 3
   },
   "file_extension": ".py",
   "mimetype": "text/x-python",
   "name": "python",
   "nbconvert_exporter": "python",
   "pygments_lexer": "ipython3",
   "version": "3.11.7"
  }
 },
 "nbformat": 4,
 "nbformat_minor": 5
}
